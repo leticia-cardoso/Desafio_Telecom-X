{
  "nbformat": 4,
  "nbformat_minor": 0,
  "metadata": {
    "colab": {
      "provenance": []
    },
    "kernelspec": {
      "name": "python3",
      "display_name": "Python 3"
    },
    "language_info": {
      "name": "python"
    }
  },
  "cells": [
    {
      "cell_type": "code",
      "source": [
        "import pandas as pd\n",
        "import matplotlib.pyplot as plt\n",
        "import matplotlib.ticker as mtick\n",
        "import seaborn as sns\n",
        "import numpy as np\n",
        "from great_tables import GT, md, html, vals, loc, style, exibble"
      ],
      "metadata": {
        "id": "BqG2VBFmx2a4"
      },
      "execution_count": null,
      "outputs": []
    },
    {
      "cell_type": "code",
      "source": [
        "url = \"https://raw.githubusercontent.com/ingridcristh/challenge2-data-science/refs/heads/main/TelecomX_Data.json\"\n",
        "\n",
        "df = pd.read_json(url)\n",
        "df.head()"
      ],
      "metadata": {
        "id": "WijYy9iox78_"
      },
      "execution_count": null,
      "outputs": []
    },
    {
      "cell_type": "code",
      "source": [
        "df.info()"
      ],
      "metadata": {
        "id": "kKNE0-PGx_3o"
      },
      "execution_count": null,
      "outputs": []
    },
    {
      "cell_type": "code",
      "source": [
        "# Normalizing the data frame\n",
        "customer_df = pd.json_normalize(df['customer'])\n",
        "phone_df = pd.json_normalize(df['phone'])\n",
        "internet_df = pd.json_normalize(df['internet'])\n",
        "account_df = pd.json_normalize(df['account'])\n",
        "\n",
        "# Add customerID to each normalized dataframe for merging\n",
        "customer_df['customerID'] = df['customerID']\n",
        "phone_df['customerID'] = df['customerID']\n",
        "internet_df['customerID'] = df['customerID']\n",
        "account_df['customerID'] = df['customerID']\n",
        "\n",
        "# Merge the dataframes\n",
        "df = df[['customerID', 'Churn']].merge(customer_df, on='customerID').merge(phone_df, on='customerID').merge(internet_df, on='customerID').merge(account_df, on='customerID')\n",
        "\n",
        "df.head()\n",
        ""
      ],
      "metadata": {
        "id": "VjTFo5tDyFOf"
      },
      "execution_count": null,
      "outputs": []
    },
    {
      "cell_type": "code",
      "source": [
        "df.columns = df.columns.str.lower().str.replace('.','_')\n",
        "df = df.rename(columns={'customerid':'customer_id','seniorcitizen':'senior_citizen','phoneservice':'phone_service','multiplelines':'multiple_lines','internetservice':'internet_service',\n",
        "          'onlinesecurity':'online_security','onlinebackup':'online_backup','deviceprotection':'device_protection','techsupport':'tech_support',\n",
        "          'streamingtv':'streaming_tv','streamingmovies':'streaming_movies','paperlessbilling':'paper_less_billing','paymentmethod':'payment_method'})\n",
        "df.info()\n",
        ""
      ],
      "metadata": {
        "id": "cHg_HzNAyFtv"
      },
      "execution_count": null,
      "outputs": []
    },
    {
      "cell_type": "code",
      "source": [
        "df['daily_accounts'] = (df.charges_monthly/30.44).round(2)\n",
        "df.head()"
      ],
      "metadata": {
        "id": "MlaPfPZWyJgw"
      },
      "execution_count": null,
      "outputs": []
    },
    {
      "cell_type": "code",
      "source": [
        "\n",
        "for col in df.columns:\n",
        "  print(f'Quantity of unique values on columns \"{col}\": {df[col].nunique()}')\n",
        "  if df[col].nunique() <50:\n",
        "    print(df[col].unique())\n",
        "  print(100*'-')"
      ],
      "metadata": {
        "id": "pfQnfq6fyMv9"
      },
      "execution_count": null,
      "outputs": []
    },
    {
      "cell_type": "code",
      "source": [
        "df['charges_total'] = pd.to_numeric(df['charges_total'], errors='coerce')\n",
        "df[\"charges_total\"] = df[\"charges_total\"].fillna(0)\n",
        "\n",
        "for col in df.columns:\n",
        "  print(f'Quantity of null values in column \"{col}\": {df[col].isnull().sum()}')\n",
        "  print(50*'-')\n",
        ""
      ],
      "metadata": {
        "id": "0Ie1cGYzyMpG"
      },
      "execution_count": null,
      "outputs": []
    },
    {
      "cell_type": "code",
      "source": [
        "churn_filter = df[df['churn'].isin(['Yes','No'])].copy()\n",
        "churn_filter['churn'] = churn_filter['churn'].replace({'No': 'Retained', 'Yes': 'Churned'})\n",
        ""
      ],
      "metadata": {
        "id": "zo8lrQDWyhVx"
      },
      "execution_count": null,
      "outputs": []
    },
    {
      "cell_type": "markdown",
      "source": [
        "Análise"
      ],
      "metadata": {
        "id": "3liMNO4Eya6X"
      }
    },
    {
      "cell_type": "code",
      "source": [
        "ax = sns.kdeplot(data=churn_filter, x=\"tenure\", hue=\"churn\", multiple=\"stack\",\n",
        "                 palette={'Retained': '#4c72b0', 'Churned': '#dd8452'})\n",
        "\n",
        "\n",
        "sns.move_legend(ax, 'upper center', bbox_to_anchor=(0.5, 1.2), ncol=3, title=None, frameon=False)\n",
        "for text in ax.legend_.texts:\n",
        "    text.set_fontsize(12)\n",
        "\n",
        "ax.set_title('Tenure distribution', fontsize=18, pad=12)\n",
        "ax.set_xlabel('Tenure')\n",
        "ax.spines[['top', 'right']].set_visible(False)\n",
        "\n",
        "plt.show()"
      ],
      "metadata": {
        "id": "8h6GzAYWyMl7"
      },
      "execution_count": null,
      "outputs": []
    },
    {
      "cell_type": "code",
      "source": [
        "ax = sns.kdeplot(data=churn_filter, x=\"tenure\", hue=\"churn\", multiple=\"stack\",\n",
        "                 palette={'Retained': '#4c72b0', 'Churned': '#dd8452'})\n",
        "\n",
        "\n",
        "sns.move_legend(ax, 'upper center', bbox_to_anchor=(0.5, 1.2), ncol=3, title=None, frameon=False)\n",
        "for text in ax.legend_.texts:\n",
        "    text.set_fontsize(12)\n",
        "\n",
        "ax.set_title('Tenure distribution', fontsize=18, pad=12)\n",
        "ax.set_xlabel('Tenure')\n",
        "ax.spines[['top', 'right']].set_visible(False)\n",
        "\n",
        "plt.show()"
      ],
      "metadata": {
        "id": "oQh2UvNfyMjM"
      },
      "execution_count": null,
      "outputs": []
    },
    {
      "cell_type": "code",
      "source": [
        "counts, bins = np.histogram(df[df['churn']=='Yes']['tenure'], bins=20)\n",
        "mean_churn_count = counts.mean().round(0)\n",
        "\n",
        "fig, ax1 = plt.subplots(figsize=(14,6))\n",
        "\n",
        "sns.histplot(ax=ax1, data=churn_filter, x=\"tenure\", hue=\"churn\", bins=20, multiple='dodge', shrink=1, palette={'Retained': '#4c72b0', 'Churned': '#dd8452'})\n",
        "line = ax1.axhline(y=mean_churn_count, color='red', linestyle='--', label=f'Mean Churn : {mean_churn_count:.2f}')\n",
        "\n",
        "handles, labels = ax1.get_legend_handles_labels()\n",
        "fig.legend(handles, labels + [line.get_label()], loc='upper center', bbox_to_anchor=(0.5, 1), ncol=3, title=None, frameon=False, fontsize=12)\n",
        "\n",
        "ax1.spines[['top', 'right']].set_visible(False)\n",
        "ax1.set_title('Histogram of Customer Churn by Tenure', fontsize=18)\n",
        "ax1.set_xlabel('Tenure (Months)')\n",
        "ax1.set_ylabel('Number of Customers')\n",
        "\n",
        "plt.show()\n",
        ""
      ],
      "metadata": {
        "id": "rPp9P4DTyMfJ"
      },
      "execution_count": null,
      "outputs": []
    },
    {
      "cell_type": "code",
      "source": [
        "churn_rate_by_tenure = (churn_filter.groupby('tenure')['churn'].value_counts(normalize=True)*100).unstack()\n",
        "\n",
        "plt.figure(figsize=(18, 8))\n",
        "sns.lineplot(x=churn_rate_by_tenure.index, y=churn_rate_by_tenure['Churned'], marker='o', color='#dd8452')\n",
        "\n",
        "ax = plt.gca()\n",
        "formatter = mtick.FuncFormatter(lambda y, _: f'{y:.2f}'.replace('.', ',') + '%')\n",
        "ax.yaxis.set_major_formatter(formatter)\n",
        "\n",
        "plt.title('Churn Rate by time of tenure', fontsize=16)\n",
        "plt.xlabel('Tenure (Months)', fontsize=12)\n",
        "plt.ylabel('Churn Rate', fontsize=12)\n",
        "plt.grid(True, linestyle='--', alpha=0.6)\n",
        "plt.show()\n",
        ""
      ],
      "metadata": {
        "id": "HXtRe97EyMav"
      },
      "execution_count": null,
      "outputs": []
    },
    {
      "cell_type": "code",
      "source": [
        "churn_rate = round((churn_filter.churn.value_counts(normalize= True)*100),2).to_frame()\n",
        "colors = ['#4c72b0', '#dd8452']\n",
        "\n",
        "fig, ax = plt.subplots(figsize=(9,6))\n",
        "\n",
        "wedges, texts, autotexts = ax.pie(\n",
        "    churn_rate['proportion'], labels=churn_rate.index, autopct='%1.1f%%', startangle=90,\n",
        "    colors=colors\n",
        ")\n",
        "\n",
        "plt.setp(autotexts, size=14, weight='bold', color='w')\n",
        "plt.setp(texts, size=14)\n",
        "\n",
        "ax.set_title('Overal customer churn', fontsize=18, pad=12)\n",
        "ax.yaxis.set_visible(False)\n",
        "ax.spines[['top', 'left', 'right']].set_visible(False)\n",
        "\n",
        "plt.show()"
      ],
      "metadata": {
        "id": "HCJyg0XsyMXH"
      },
      "execution_count": null,
      "outputs": []
    },
    {
      "cell_type": "code",
      "source": [
        "sex_churn_rate = round(churn_filter.groupby('gender')[['churn']].value_counts(normalize=True)*100,2).reset_index()\n",
        "pivoted_table = sex_churn_rate.pivot(index=\"gender\",columns=\"churn\",values=\"proportion\").reset_index()\n",
        "\n",
        "(\n",
        "    GT(pivoted_table)\n",
        "    .tab_header(\n",
        "        title=\"Churn Rate by Gender\",\n",
        "    )\n",
        "    .tab_spanner(\n",
        "        label=\"Churn Status\",\n",
        "        columns=[\"Retained\", \"Churned\"]\n",
        "    )\n",
        "    .fmt_number(\n",
        "        columns=[\"Retained\", \"Churned\"],\n",
        "        decimals=2,\n",
        "        pattern=\"{x} %\"\n",
        "    )\n",
        "    .data_color(\n",
        "        columns=\"Churned\",\n",
        "        palette=[\"#fdebea\", \"#e63946\"]\n",
        "    )\n",
        "    .cols_label(\n",
        "        gender=\"Gender\",\n",
        "\n",
        "    )\n",
        "    .tab_options(\n",
        "        heading_title_font_size=\"30px\",\n",
        "        column_labels_font_weight=\"bold\",\n",
        "        column_labels_font_size=\"20px\",\n",
        "        table_font_size='20px',\n",
        "        table_border_top_style=\"hidden\",\n",
        "        table_border_bottom_style=\"hidden\"\n",
        "    )\n",
        "\n",
        ")"
      ],
      "metadata": {
        "id": "TAZjNz8PyMTW"
      },
      "execution_count": null,
      "outputs": []
    },
    {
      "cell_type": "code",
      "source": [
        "fig, ax = plt.subplots(figsize=(9,6))\n",
        "\n",
        "sns.barplot(data=sex_churn_rate, ax=ax, x='gender', y='proportion', hue='churn',\n",
        "            palette={'Retained': '#4c72b0', 'Churned': '#dd8452'})\n",
        "\n",
        "for cont in ax.containers:\n",
        "  ax.bar_label(cont, fmt='%.2f%%', label_type='edge', padding=5, fontsize=12, color='#333333')\n",
        "\n",
        "sns.move_legend(ax, 'upper center', bbox_to_anchor=(0.5, 1.2), ncol=3, title=None, frameon=False)\n",
        "for text in ax.legend_.texts:\n",
        "    text.set_fontsize(12)\n",
        "\n",
        "ax.set_title('Churn Rate by Gender', fontsize=18, pad=12)\n",
        "ax.yaxis.set_major_formatter(mtick.PercentFormatter(decimals=0))\n",
        "ax.set_ylim(0, max(sex_churn_rate.proportion)*1.1)\n",
        "ax.yaxis.set_visible(False)\n",
        "ax.set_xlabel('')\n",
        "ax.spines[['top', 'left', 'right']].set_visible(False)\n",
        "\n",
        "plt.show()"
      ],
      "metadata": {
        "id": "Aj7Lq45cyMNm"
      },
      "execution_count": null,
      "outputs": []
    },
    {
      "cell_type": "code",
      "source": [
        "churn_sitizien = (df.assign(senior_status = churn_filter.senior_citizen.map({0:'Under 65 years old', 1:'From 65 years old'}))\n",
        "                .groupby('senior_status')[['churn']].value_counts(normalize=True).mul(100).round(2)).to_frame().reset_index()\n",
        "\n",
        "s_pivoted_table = churn_sitizien.pivot(index=\"senior_status\",columns=\"churn\",values=\"proportion\").reset_index()\n",
        "\n",
        "(\n",
        "    GT(s_pivoted_table)\n",
        "    .tab_header(\n",
        "        title=\"Churn Rate Senior Status\",\n",
        "    )\n",
        "    .tab_spanner(\n",
        "        label=\"Churn Status\",\n",
        "        columns=[\"No\", \"Yes\"]\n",
        "    )\n",
        "    .fmt_number(\n",
        "        columns=[\"Retained\", \"Churned\"],\n",
        "        decimals=2,\n",
        "        pattern=\"{x} %\"\n",
        "    )\n",
        "    .data_color(\n",
        "        columns=\"Yes\",\n",
        "        palette=[\"#fdebea\", \"#e63946\"]\n",
        "    )\n",
        "    .cols_label(\n",
        "        senior_status=\"Senior Status\",\n",
        "        No = 'Retained',\n",
        "        Yes= 'Churned'\n",
        "    )\n",
        "    .tab_options(\n",
        "        heading_title_font_size=\"30px\",\n",
        "        column_labels_font_weight=\"bold\",\n",
        "        column_labels_font_size=\"20px\",\n",
        "        table_font_size='20px',\n",
        "        table_border_top_style=\"hidden\",\n",
        "        table_border_bottom_style=\"hidden\"\n",
        "    )\n",
        "\n",
        ")\n",
        "\n",
        ""
      ],
      "metadata": {
        "id": "HJxW8C5myMDX"
      },
      "execution_count": null,
      "outputs": []
    },
    {
      "cell_type": "code",
      "source": [
        "churn_sitizien['churn'] = churn_sitizien['churn'].replace({'No': 'Retained', 'Yes': 'Churned'})\n",
        "fig, ax = plt.subplots(figsize=(9,6))\n",
        "\n",
        "ax = sns.barplot(data=churn_sitizien, x='senior_status', y='proportion', hue='churn',\n",
        "                 palette={'Retained': '#4c72b0', 'Churned': '#dd8452'})\n",
        "\n",
        "for cont in ax.containers:\n",
        "  ax.bar_label(cont, fmt='%.2f%%', label_type='edge', padding=5, fontsize=12, color='#333333')\n",
        "\n",
        "sns.move_legend(ax, 'upper center', bbox_to_anchor=(0.5, 1.2), ncol=3, title=None, frameon=False)\n",
        "for text in ax.legend_.texts:\n",
        "    text.set_fontsize(12)\n",
        "\n",
        "ax.yaxis.set_major_formatter(mtick.PercentFormatter(decimals=0))\n",
        "ax.set_title('Churn Rate by Senior level', fontsize=18, pad=12)\n",
        "ax.set_xlabel('')\n",
        "ax.set_ylim(0, max(sex_churn_rate.proportion)*1.1)\n",
        "ax.yaxis.set_visible(False)\n",
        "ax.spines[['top', 'left', 'right']].set_visible(False)\n",
        "\n",
        "plt.show()\n",
        ""
      ],
      "metadata": {
        "id": "k5a8zAtMzGn_"
      },
      "execution_count": null,
      "outputs": []
    },
    {
      "cell_type": "code",
      "source": [],
      "metadata": {
        "id": "3fmltls6zGlm"
      },
      "execution_count": null,
      "outputs": []
    },
    {
      "cell_type": "code",
      "source": [
        "contract_churn_rate = round(churn_filter.groupby('contract')[['churn']].value_counts(normalize=True)*100,2).to_frame().reset_index()\n",
        "c_pivoted_table = contract_churn_rate.pivot(index=\"contract\",columns=\"churn\",values=\"proportion\").reset_index()\n",
        "\n",
        "(\n",
        "    GT(c_pivoted_table)\n",
        "    .tab_header(\n",
        "        title=\"Churn Rate by Contract Type\",\n",
        "    )\n",
        "    .tab_spanner(\n",
        "        label=\"Churn Status\",\n",
        "        columns=[\"Retained\", \"Churned\"]\n",
        "    )\n",
        "    .fmt_number(\n",
        "        columns=[\"Retained\", \"Churned\"],\n",
        "        decimals=2,\n",
        "        pattern=\"{x} %\"\n",
        "    )\n",
        "    .data_color(\n",
        "        columns=\"Churned\",\n",
        "        palette=[\"#fdebea\", \"#e63946\"]\n",
        "    )\n",
        "    .cols_label(\n",
        "        contract=\"Contract\",\n",
        "\n",
        "    )\n",
        "    .tab_options(\n",
        "        heading_title_font_size=\"30px\",\n",
        "        column_labels_font_weight=\"bold\",\n",
        "        column_labels_font_size=\"20px\",\n",
        "        table_font_size='20px',\n",
        "        table_border_top_style=\"hidden\",\n",
        "        table_border_bottom_style=\"hidden\"\n",
        "    )\n",
        "\n",
        ")"
      ],
      "metadata": {
        "id": "iDC9UMYPzGhp"
      },
      "execution_count": null,
      "outputs": []
    },
    {
      "cell_type": "code",
      "source": [
        "fig, ax = plt.subplots(figsize=(9,6))\n",
        "ax = sns.barplot(data=contract_churn_rate, x='contract', y='proportion', hue='churn',\n",
        "                 palette={'Retained': '#4c72b0', 'Churned': '#dd8452'})\n",
        "\n",
        "for cont in ax.containers:\n",
        "  ax.bar_label(cont, fmt='%.2f%%', label_type='edge', padding=5, fontsize=12, color='#333333')\n",
        "\n",
        "sns.move_legend(ax, 'upper center', bbox_to_anchor=(0.5, 1.2), ncol=3, title=None, frameon=False)\n",
        "for text in ax.legend_.texts:\n",
        "    text.set_fontsize(12)\n",
        "\n",
        "ax.yaxis.set_major_formatter(mtick.PercentFormatter(decimals=0))\n",
        "\n",
        "ax.set_title('Churn Rate by contract type', fontsize=18, pad=12)\n",
        "ax.set_xlabel('')\n",
        "ax.yaxis.set_visible(False)\n",
        "ax.spines[['top', 'left', 'right']].set_visible(False)\n",
        "\n",
        "plt.show()\n",
        ""
      ],
      "metadata": {
        "id": "jFOT-M52zGeo"
      },
      "execution_count": null,
      "outputs": []
    },
    {
      "cell_type": "code",
      "source": [
        "payment_churn_rate = round(churn_filter.groupby('payment_method')[['churn']].value_counts(normalize=True)*100,2).to_frame().reset_index()\n",
        "p_pivoted_table = payment_churn_rate.pivot(index=\"payment_method\", columns=\"churn\", values=\"proportion\").reset_index()\n",
        "\n",
        "(\n",
        "    GT(p_pivoted_table)\n",
        "    .tab_header(\n",
        "        title=\"Churn Rate by Payment Method\",\n",
        "    )\n",
        "    .tab_spanner(\n",
        "        label=\"Churn Status\",\n",
        "        columns=[\"Retained\", \"Churned\"]\n",
        "    )\n",
        "    .fmt_number(\n",
        "        columns=[\"Retained\", \"Churned\"],\n",
        "        decimals=2,\n",
        "        pattern=\"{x} %\"\n",
        "    )\n",
        "    .data_color(\n",
        "        columns=\"Churned\",\n",
        "        palette=[\"#fdebea\", \"#e63946\"]\n",
        "    )\n",
        "    .cols_label(\n",
        "        payment_method=\"Payment Method\",\n",
        "\n",
        "    )\n",
        "    .tab_options(\n",
        "        heading_title_font_size=\"30px\",\n",
        "        column_labels_font_weight=\"bold\",\n",
        "        column_labels_font_size=\"20px\",\n",
        "        table_font_size='20px',\n",
        "        table_border_top_style=\"hidden\",\n",
        "        table_border_bottom_style=\"hidden\"\n",
        "    )\n",
        "\n",
        ")"
      ],
      "metadata": {
        "id": "CEc1EoSJzGa_"
      },
      "execution_count": null,
      "outputs": []
    },
    {
      "cell_type": "code",
      "source": [
        "\n",
        "fig, ax = plt.subplots(figsize=(12,6))\n",
        "ax = sns.barplot(data=payment_churn_rate, x='payment_method', y='proportion', hue='churn',\n",
        "                 palette={'Retained': '#4c72b0', 'Churned': '#dd8452'})\n",
        "\n",
        "for cont in ax.containers:\n",
        "  ax.bar_label(cont, fmt='%.2f%%', label_type='edge', padding=5, fontsize=12, color='#333333')\n",
        "\n",
        "sns.move_legend(ax, 'upper center', bbox_to_anchor=(0.5, 1.2), ncol=3, title=None, frameon=False)\n",
        "for text in ax.legend_.texts:\n",
        "    text.set_fontsize(12)\n",
        "\n",
        "ax.yaxis.set_major_formatter(mtick.PercentFormatter(decimals=0))\n",
        "\n",
        "ax.set_title('Churn Rate by Payment Type', fontsize=18, pad=12)\n",
        "ax.set_xlabel('')\n",
        "ax.yaxis.set_visible(False)\n",
        "ax.spines[['top', 'left', 'right']].set_visible(False)\n",
        "\n",
        "plt.show()"
      ],
      "metadata": {
        "id": "hsYQoT9szGXo"
      },
      "execution_count": null,
      "outputs": []
    },
    {
      "cell_type": "code",
      "source": [
        "counts, bins = np.histogram(df[df['churn']=='Yes']['charges_total'], bins=20)\n",
        "mean_churn_count = counts.mean().round(0)\n",
        "\n",
        "fig, ax1 = plt.subplots(figsize=(14,6))\n",
        "\n",
        "sns.histplot(ax=ax1, data=churn_filter, x=\"charges_total\", hue=\"churn\", bins=20, multiple='dodge', shrink=1, palette={'Retained': '#4c72b0', 'Churned': '#dd8452'})\n",
        "\n",
        "handles, labels = ax1.get_legend_handles_labels()\n",
        "fig.legend(handles, labels + [line.get_label()], loc='upper center', bbox_to_anchor=(0.5, 1), ncol=3, title=None, frameon=False, fontsize=12)\n",
        "\n",
        "\n",
        "ax1.spines[['top', 'right']].set_visible(False)\n",
        "ax1.set_title('Histogram of Customer Churn by Total Charges', fontsize=18)\n",
        "ax1.set_xlabel('Total Charges ($)')\n",
        "ax1.set_ylabel('Number of Customers')\n",
        "\n",
        "plt.show()\n",
        ""
      ],
      "metadata": {
        "id": "J1t2DBbdzGUJ"
      },
      "execution_count": null,
      "outputs": []
    },
    {
      "cell_type": "code",
      "source": [
        "internet_churn_rate = round(churn_filter.groupby('internet_service')[['churn']].value_counts(normalize=True)*100,2).to_frame().reset_index()\n",
        "internet_churn_rate.internet_service = internet_churn_rate.internet_service.replace({'No':'No internet Service'})\n",
        "i_pivoted_table = internet_churn_rate.pivot(index=\"internet_service\", columns=\"churn\", values=\"proportion\").reset_index()\n",
        "\n",
        "(\n",
        "    GT(i_pivoted_table)\n",
        "    .tab_header(\n",
        "        title=\"Churn Rate by Payment Method\",\n",
        "    )\n",
        "    .tab_spanner(\n",
        "        label=\"Churn Status\",\n",
        "        columns=[\"Retained\", \"Churned\"]\n",
        "    )\n",
        "    .fmt_number(\n",
        "        columns=[\"Retained\", \"Churned\"],\n",
        "        decimals=2,\n",
        "        pattern=\"{x} %\"\n",
        "    )\n",
        "    .data_color(\n",
        "        columns=\"Churned\",\n",
        "        palette=[\"#fdebea\", \"#e63946\"]\n",
        "    )\n",
        "    .cols_label(\n",
        "        internet_service=\"Internet Service\",\n",
        "\n",
        "    )\n",
        "    .tab_options(\n",
        "        heading_title_font_size=\"30px\",\n",
        "        column_labels_font_weight=\"bold\",\n",
        "        column_labels_font_size=\"20px\",\n",
        "        table_font_size='20px',\n",
        "        table_border_top_style=\"hidden\",\n",
        "        table_border_bottom_style=\"hidden\"\n",
        "    )\n",
        "\n",
        ")"
      ],
      "metadata": {
        "id": "rrc_uQJMzGQw"
      },
      "execution_count": null,
      "outputs": []
    },
    {
      "cell_type": "code",
      "source": [
        "fig, ax = plt.subplots(figsize=(12,6))\n",
        "ax = sns.barplot(data=internet_churn_rate, x='internet_service', y='proportion', hue='churn',\n",
        "                 palette={'Retained': '#4c72b0', 'Churned': '#dd8452'})\n",
        "\n",
        "for cont in ax.containers:\n",
        "  ax.bar_label(cont, fmt='%.2f%%', label_type='edge', padding=5, fontsize=12, color='#333333')\n",
        "\n",
        "sns.move_legend(ax, 'upper center', bbox_to_anchor=(0.5, 1.2), ncol=3, title=None, frameon=False)\n",
        "for text in ax.legend_.texts:\n",
        "    text.set_fontsize(12)\n",
        "\n",
        "ax.yaxis.set_major_formatter(mtick.PercentFormatter(decimals=0))\n",
        "\n",
        "ax.set_title('Churn Rate by Internet Service', fontsize=18, pad=12)\n",
        "ax.set_xlabel('')\n",
        "ax.yaxis.set_visible(False)\n",
        "ax.spines[['top', 'left', 'right']].set_visible(False)\n",
        "\n",
        "plt.show()"
      ],
      "metadata": {
        "id": "5PdoFSEqzGLe"
      },
      "execution_count": null,
      "outputs": []
    },
    {
      "cell_type": "code",
      "source": [
        "dependents_churn_rate = round(churn_filter.groupby('dependents')[['churn']].value_counts(normalize=True)*100,2).to_frame().reset_index()\n",
        "dependents_churn_rate.dependents = dependents_churn_rate.dependents.replace({'No':'Does not have dependents', 'Yes':'Has dependents'})\n",
        "d_pivoted_table = dependents_churn_rate.pivot(index=\"dependents\", columns=\"churn\", values=\"proportion\").reset_index()\n",
        "\n",
        "(\n",
        "    GT(d_pivoted_table)\n",
        "    .tab_header(\n",
        "        title=\"Churn Rate by Dependents\",\n",
        "    )\n",
        "    .tab_spanner(\n",
        "        label=\"Churn Status\",\n",
        "        columns=[\"Retained\", \"Churned\"]\n",
        "    )\n",
        "    .fmt_number(\n",
        "        columns=[\"Retained\", \"Churned\"],\n",
        "        decimals=2,\n",
        "        pattern=\"{x} %\"\n",
        "    )\n",
        "    .data_color(\n",
        "        columns=\"Churned\",\n",
        "        palette=[\"#fdebea\", \"#e63946\"]\n",
        "    )\n",
        "    .cols_label(\n",
        "        dependents=\"Dependents\"\n",
        "\n",
        "    )\n",
        "    .tab_options(\n",
        "        heading_title_font_size=\"30px\",\n",
        "        column_labels_font_weight=\"bold\",\n",
        "        column_labels_font_size=\"20px\",\n",
        "        table_font_size='20px',\n",
        "        table_border_top_style=\"hidden\",\n",
        "        table_border_bottom_style=\"hidden\"\n",
        "    )\n",
        "\n",
        ")\n",
        ""
      ],
      "metadata": {
        "id": "-vvf5dUNzGB3"
      },
      "execution_count": null,
      "outputs": []
    },
    {
      "cell_type": "code",
      "source": [
        "pertner_churn_rate = round(churn_filter.groupby('partner')[['churn']].value_counts(normalize=True)*100,2).to_frame().reset_index()\n",
        "pertner_churn_rate.partner = pertner_churn_rate.partner.replace({'No':'Does not have partner', 'Yes':'Has partner'})\n",
        "p_pivoted_table = pertner_churn_rate.pivot(index=\"partner\", columns=\"churn\", values=\"proportion\").reset_index()\n",
        "\n",
        "(\n",
        "    GT(p_pivoted_table)\n",
        "    .tab_header(\n",
        "        title=\"Churn Rate by Dependents\",\n",
        "    )\n",
        "    .tab_spanner(\n",
        "        label=\"Churn Status\",\n",
        "        columns=[\"Retained\", \"Churned\"]\n",
        "    )\n",
        "    .fmt_number(\n",
        "        columns=[\"Retained\", \"Churned\"],\n",
        "        decimals=2,\n",
        "        pattern=\"{x} %\"\n",
        "    )\n",
        "    .data_color(\n",
        "        columns=\"Churned\",\n",
        "        palette=[\"#fdebea\", \"#e63946\"]\n",
        "    )\n",
        "    .cols_label(\n",
        "        partner=\"Partner\"\n",
        "\n",
        "    )\n",
        "    .tab_options(\n",
        "        heading_title_font_size=\"30px\",\n",
        "        column_labels_font_weight=\"bold\",\n",
        "        column_labels_font_size=\"20px\",\n",
        "        table_font_size='20px',\n",
        "        table_border_top_style=\"hidden\",\n",
        "        table_border_bottom_style=\"hidden\"\n",
        "    )\n",
        "\n",
        ")\n",
        ""
      ],
      "metadata": {
        "id": "AyPb-C3J0dUt"
      },
      "execution_count": null,
      "outputs": []
    },
    {
      "cell_type": "code",
      "source": [
        "fig, (ax1, ax2) = plt.subplots(1,2, figsize=(20,8))\n",
        "\n",
        "sns.barplot(data=dependents_churn_rate, x='dependents', y='proportion', hue='churn', ax=ax1,\n",
        "                 palette={'Retained': '#4c72b0', 'Churned': '#dd8452'})\n",
        "\n",
        "for cont in ax1.containers:\n",
        "  ax1.bar_label(cont, fmt='%.2f%%', label_type='edge', padding=5, fontsize=12, color='#333333')\n",
        "\n",
        "sns.move_legend(ax1, 'upper center', bbox_to_anchor=(0.5, 1.2), ncol=2, title=None, frameon=False)\n",
        "for text in ax1.legend_.texts:\n",
        "    text.set_fontsize(12)\n",
        "\n",
        "ax1.yaxis.set_major_formatter(mtick.PercentFormatter(decimals=0))\n",
        "\n",
        "ax1.set_title('Churn Rate by Dependent Status', fontsize=18, pad=12)\n",
        "ax1.set_xlabel('')\n",
        "ax1.set_xticks(ax1.get_xticks())\n",
        "ax1.set_xticklabels(ax1.get_xticklabels(), rotation=0)\n",
        "ax1.yaxis.set_visible(False)\n",
        "ax1.spines[['top', 'left', 'right']].set_visible(False)\n",
        "\n",
        "sns.barplot(data=pertner_churn_rate, x='partner', y='proportion', hue='churn', ax=ax2,\n",
        "                 palette={'Retained': '#4c72b0', 'Churned': '#dd8452'})\n",
        "\n",
        "for cont in ax2.containers:\n",
        "  ax2.bar_label(cont, fmt='%.2f%%', label_type='edge', padding=5, fontsize=12, color='#333333')\n",
        "\n",
        "sns.move_legend(ax2, 'upper center', bbox_to_anchor=(0.5, 1.2), ncol=2, title=None, frameon=False)\n",
        "for text in ax2.legend_.texts:\n",
        "    text.set_fontsize(12)\n",
        "\n",
        "ax2.yaxis.set_major_formatter(mtick.PercentFormatter(decimals=0))\n",
        "\n",
        "ax2.set_title('Churn Rate by Partner Status', fontsize=18, pad=12)\n",
        "ax2.set_xlabel('')\n",
        "# Explicitly set ticks before setting labels to avoid UserWarning\n",
        "ax2.set_xticks(ax2.get_xticks())\n",
        "ax2.set_xticklabels(ax2.get_xticklabels(), rotation=0)\n",
        "ax2.yaxis.set_visible(False)\n",
        "ax2.spines[['top', 'left', 'right']].set_visible(False)\n",
        "\n",
        "plt.show()\n",
        ""
      ],
      "metadata": {
        "id": "o-O_hmXv0dRe"
      },
      "execution_count": null,
      "outputs": []
    },
    {
      "cell_type": "markdown",
      "source": [
        "#💡 Insights principais (do relatório)\n",
        "\n",
        "Contrato Month-to-month aparece com churn mais alto que contratos de 1 e 2 anos.\n",
        "\n",
        "Electronic check tende a ter churn acima da média comparado a outros métodos de pagamento.\n",
        "\n",
        "Clientes com tenure baixo (≤ 6 meses) concentram mais churn.\n",
        "\n",
        "Diferenças por tipo de internet (ex.: Fiber optic) merecem atenção em estratégia de retenção."
      ],
      "metadata": {
        "id": "vH-0XxU3045A"
      }
    },
    {
      "cell_type": "markdown",
      "source": [
        "#Próximos passos sugeridos para o time de DS\n",
        "\n",
        "Modelagem: logistic regression de baseline, depois tree-based (RF, XGBoost, LightGBM).\n",
        "\n",
        "Feature engineering: interações (contrato × pagamento × tenure), normalização de numéricas, target encoding de categóricas.\n",
        "\n",
        "Validação: estratificar por churn, métricas AUC/PR-AUC, calibration de probabilidades.\n",
        "\n",
        "Ação: campanhas de retenção focadas em Month-to-month + Electronic check + Tenure baixo, com ofertas de upgrade para contratos mais longos e melhoria da experiência nos serviços de maior churn."
      ],
      "metadata": {
        "id": "_LAGk7cR0_bW"
      }
    },
    {
      "cell_type": "markdown",
      "source": [],
      "metadata": {
        "id": "fSHefJ6C1BPG"
      }
    }
  ]
}